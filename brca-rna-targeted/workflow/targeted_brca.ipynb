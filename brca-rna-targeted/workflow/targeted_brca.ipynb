{
  "nbformat": 4,
  "nbformat_minor": 0,
  "metadata": {
    "colab": {
      "provenance": [],
      "machine_shape": "hm"
    },
    "kernelspec": {
      "name": "python3",
      "display_name": "Python 3"
    },
    "language_info": {
      "name": "python"
    }
  },
  "cells": [
    {
      "cell_type": "code",
      "source": [
        "# Mount Drive and set up\n",
        "from google.colab import drive\n",
        "drive.mount('/content/drive')\n",
        "\n",
        "BASE = \"/content/drive/MyDrive/brca-targeted-analysis/brca_rna_targeted\"\n",
        "KEEP = \"ERR13137440\"  # single sample\n",
        "!mkdir -p \"{BASE}/data/raw\" \"{BASE}/data/processed\" \"{BASE}/refs\" \"{BASE}/align\" \"{BASE}/isoforms\" \"{BASE}/results\" \"{BASE}/workflow/outputs\"\n",
        "%env BASE={BASE}\n",
        "%env KEEP={KEEP}\n",
        "\n",
        "!echo $BASE && ls -R \"$BASE\""
      ],
      "metadata": {
        "colab": {
          "base_uri": "https://localhost:8080/"
        },
        "id": "UoVhWcsMBPPy",
        "outputId": "3d30e6f1-7b70-48d6-bf08-ce6ec210f23b"
      },
      "execution_count": 1,
      "outputs": [
        {
          "output_type": "stream",
          "name": "stdout",
          "text": [
            "Mounted at /content/drive\n",
            "env: BASE=/content/drive/MyDrive/brca-targeted-analysis/brca_rna_targeted\n",
            "env: KEEP=ERR13137440\n",
            "/content/drive/MyDrive/brca-targeted-analysis/brca_rna_targeted\n",
            "/content/drive/MyDrive/brca-targeted-analysis/brca_rna_targeted:\n",
            "align  data  isoforms  qc  refs  results  workflow\n",
            "\n",
            "/content/drive/MyDrive/brca-targeted-analysis/brca_rna_targeted/align:\n",
            "ERR13137440.bam  ERR13137440.bam.bai\n",
            "\n",
            "/content/drive/MyDrive/brca-targeted-analysis/brca_rna_targeted/data:\n",
            "processed  raw\n",
            "\n",
            "/content/drive/MyDrive/brca-targeted-analysis/brca_rna_targeted/data/processed:\n",
            "mini_ERR13137440.fastq.gz\n",
            "\n",
            "/content/drive/MyDrive/brca-targeted-analysis/brca_rna_targeted/data/raw:\n",
            "ERR13137440.fastq.gz\n",
            "\n",
            "/content/drive/MyDrive/brca-targeted-analysis/brca_rna_targeted/isoforms:\n",
            "ERR13137440\n",
            "\n",
            "/content/drive/MyDrive/brca-targeted-analysis/brca_rna_targeted/isoforms/ERR13137440:\n",
            "e2t.ctab\t     ERR13137440.guided.gtf\t\ti_data.ctab\n",
            "e_data.ctab\t     ERR13137440.transcripts.bed\tt_data.ctab\n",
            "ERR13137440.gtf      ERR13137440.transcripts.panel.bed\n",
            "ERR13137440.gtf.tmp  i2t.ctab\n",
            "\n",
            "/content/drive/MyDrive/brca-targeted-analysis/brca_rna_targeted/qc:\n",
            "\n",
            "/content/drive/MyDrive/brca-targeted-analysis/brca_rna_targeted/refs:\n",
            "gencode.v46.annotation.gtf\t   panel28_genes.bed\t  panel28_genes.txt\n",
            "genes_only.gtf\t\t\t   panel28_genes.gtf\n",
            "GRCh38.primary_assembly.genome.fa  panel28_genes.raw.bed\n",
            "\n",
            "/content/drive/MyDrive/brca-targeted-analysis/brca_rna_targeted/results:\n",
            "isoform_counts.tsv  panel_gene_hits.tsv  top_panel_genes.png\n",
            "\n",
            "/content/drive/MyDrive/brca-targeted-analysis/brca_rna_targeted/workflow:\n",
            "02_build_refs.sh  04_sostar.sh\toutputs\n",
            "03_subsample.sh   make_qna.py\trun_pipeline_min.sh\n",
            "\n",
            "/content/drive/MyDrive/brca-targeted-analysis/brca_rna_targeted/workflow/outputs:\n"
          ]
        }
      ]
    },
    {
      "cell_type": "code",
      "source": [
        "%%bash\n",
        "# Install tools (once per runtime)\n",
        "apt-get -qq update\n",
        "apt-get -qq install -y minimap2 samtools bedtools seqtk gffread stringtie"
      ],
      "metadata": {
        "colab": {
          "base_uri": "https://localhost:8080/"
        },
        "id": "Q896C-UJB4ig",
        "outputId": "0d82e754-1515-4289-ae38-9834549c2c78"
      },
      "execution_count": 2,
      "outputs": [
        {
          "output_type": "stream",
          "name": "stdout",
          "text": [
            "Selecting previously unselected package bedtools.\r\n",
            "(Reading database ... \r(Reading database ... 5%\r(Reading database ... 10%\r(Reading database ... 15%\r(Reading database ... 20%\r(Reading database ... 25%\r(Reading database ... 30%\r(Reading database ... 35%\r(Reading database ... 40%\r(Reading database ... 45%\r(Reading database ... 50%\r(Reading database ... 55%\r(Reading database ... 60%\r(Reading database ... 65%\r(Reading database ... 70%\r(Reading database ... 75%\r(Reading database ... 80%\r(Reading database ... 85%\r(Reading database ... 90%\r(Reading database ... 95%\r(Reading database ... 100%\r(Reading database ... 126371 files and directories currently installed.)\r\n",
            "Preparing to unpack .../0-bedtools_2.30.0+dfsg-2ubuntu0.1_amd64.deb ...\r\n",
            "Unpacking bedtools (2.30.0+dfsg-2ubuntu0.1) ...\r\n",
            "Selecting previously unselected package libgclib3:amd64.\r\n",
            "Preparing to unpack .../1-libgclib3_0.12.7+ds-4_amd64.deb ...\r\n",
            "Unpacking libgclib3:amd64 (0.12.7+ds-4) ...\r\n",
            "Selecting previously unselected package gffread.\r\n",
            "Preparing to unpack .../2-gffread_0.12.7-2build1_amd64.deb ...\r\n",
            "Unpacking gffread (0.12.7-2build1) ...\r\n",
            "Selecting previously unselected package libhtscodecs2:amd64.\r\n",
            "Preparing to unpack .../3-libhtscodecs2_1.1.1-3_amd64.deb ...\r\n",
            "Unpacking libhtscodecs2:amd64 (1.1.1-3) ...\r\n",
            "Selecting previously unselected package libhts3:amd64.\r\n",
            "Preparing to unpack .../4-libhts3_1.13+ds-2build1_amd64.deb ...\r\n",
            "Unpacking libhts3:amd64 (1.13+ds-2build1) ...\r\n",
            "Selecting previously unselected package minimap2.\r\n",
            "Preparing to unpack .../5-minimap2_2.24+dfsg-2_amd64.deb ...\r\n",
            "Unpacking minimap2 (2.24+dfsg-2) ...\r\n",
            "Selecting previously unselected package samtools.\r\n",
            "Preparing to unpack .../6-samtools_1.13-4_amd64.deb ...\r\n",
            "Unpacking samtools (1.13-4) ...\r\n",
            "Selecting previously unselected package seqtk.\r\n",
            "Preparing to unpack .../7-seqtk_1.3-2_amd64.deb ...\r\n",
            "Unpacking seqtk (1.3-2) ...\r\n",
            "Selecting previously unselected package stringtie.\r\n",
            "Preparing to unpack .../8-stringtie_2.2.1+ds-2_amd64.deb ...\r\n",
            "Unpacking stringtie (2.2.1+ds-2) ...\r\n",
            "Setting up libhtscodecs2:amd64 (1.1.1-3) ...\r\n",
            "Setting up libhts3:amd64 (1.13+ds-2build1) ...\r\n",
            "Setting up seqtk (1.3-2) ...\r\n",
            "Setting up minimap2 (2.24+dfsg-2) ...\r\n",
            "Setting up samtools (1.13-4) ...\r\n",
            "Setting up stringtie (2.2.1+ds-2) ...\r\n",
            "Setting up bedtools (2.30.0+dfsg-2ubuntu0.1) ...\r\n",
            "Setting up libgclib3:amd64 (0.12.7+ds-4) ...\r\n",
            "Setting up gffread (0.12.7-2build1) ...\r\n",
            "Processing triggers for man-db (2.10.2-1) ...\r\n",
            "Processing triggers for libc-bin (2.35-0ubuntu3.8) ...\r\n",
            "/sbin/ldconfig.real: /usr/local/lib/libtbbbind_2_0.so.3 is not a symbolic link\r\n",
            "\r\n",
            "/sbin/ldconfig.real: /usr/local/lib/libhwloc.so.15 is not a symbolic link\r\n",
            "\r\n",
            "/sbin/ldconfig.real: /usr/local/lib/libtbbmalloc.so.2 is not a symbolic link\r\n",
            "\r\n",
            "/sbin/ldconfig.real: /usr/local/lib/libtcm.so.1 is not a symbolic link\r\n",
            "\r\n",
            "/sbin/ldconfig.real: /usr/local/lib/libur_adapter_level_zero_v2.so.0 is not a symbolic link\r\n",
            "\r\n",
            "/sbin/ldconfig.real: /usr/local/lib/libtbbbind_2_5.so.3 is not a symbolic link\r\n",
            "\r\n",
            "/sbin/ldconfig.real: /usr/local/lib/libtbbmalloc_proxy.so.2 is not a symbolic link\r\n",
            "\r\n",
            "/sbin/ldconfig.real: /usr/local/lib/libumf.so.0 is not a symbolic link\r\n",
            "\r\n",
            "/sbin/ldconfig.real: /usr/local/lib/libtbb.so.12 is not a symbolic link\r\n",
            "\r\n",
            "/sbin/ldconfig.real: /usr/local/lib/libur_adapter_level_zero.so.0 is not a symbolic link\r\n",
            "\r\n",
            "/sbin/ldconfig.real: /usr/local/lib/libtbbbind.so.3 is not a symbolic link\r\n",
            "\r\n",
            "/sbin/ldconfig.real: /usr/local/lib/libtcm_debug.so.1 is not a symbolic link\r\n",
            "\r\n",
            "/sbin/ldconfig.real: /usr/local/lib/libur_adapter_opencl.so.0 is not a symbolic link\r\n",
            "\r\n",
            "/sbin/ldconfig.real: /usr/local/lib/libur_loader.so.0 is not a symbolic link\r\n",
            "\r\n"
          ]
        },
        {
          "output_type": "stream",
          "name": "stderr",
          "text": [
            "W: Skipping acquire of configured file 'main/source/Sources' as repository 'https://r2u.stat.illinois.edu/ubuntu jammy InRelease' does not seem to provide it (sources.list entry misspelt?)\n"
          ]
        }
      ]
    },
    {
      "cell_type": "code",
      "execution_count": null,
      "metadata": {
        "collapsed": true,
        "id": "4hPWHWkBAP7h"
      },
      "outputs": [],
      "source": [
        "%%bash\n",
        "# subsample one raw FASTQ to <1GB\n",
        "BASE=\"${BASE}\"; KEEP=\"${KEEP}\"\n",
        "RAW=\"$BASE/data/raw\"; PROC=\"$BASE/data/processed\"; NREADS=300000\n",
        "if [ -s \"$RAW/${KEEP}.fastq.gz\" ]; then\n",
        "  seqtk sample -s100 \"$RAW/${KEEP}.fastq.gz\" \"$NREADS\" | gzip -c > \"$PROC/mini_${KEEP}.fastq.gz\"\n",
        "fi\n",
        "ls -lh \"$PROC\" || true"
      ]
    },
    {
      "cell_type": "code",
      "source": [
        "# Build refs (GRCh38, GENCODE v46) and 28-gene BED\n",
        "import os, re, shutil, gzip, urllib.request\n",
        "\n",
        "BASE = os.environ[\"BASE\"]; REF=f\"{BASE}/refs\"\n",
        "os.makedirs(REF, exist_ok=True)\n",
        "fa_gz=\"https://ftp.ebi.ac.uk/pub/databases/gencode/Gencode_human/release_46/GRCh38.primary_assembly.genome.fa.gz\"\n",
        "gtf_gz=\"https://ftp.ebi.ac.uk/pub/databases/gencode/Gencode_human/release_46/gencode.v46.annotation.gtf.gz\"\n",
        "fa=f\"{REF}/GRCh38.primary_assembly.genome.fa\"\n",
        "gtf=f\"{REF}/gencode.v46.annotation.gtf\"\n",
        "\n",
        "def fetch_gz(url, out_plain):\n",
        "    if not os.path.exists(out_plain):\n",
        "        gz = out_plain + \".gz\"\n",
        "        urllib.request.urlretrieve(url, gz)\n",
        "        with gzip.open(gz,'rb') as fin, open(out_plain,'wb') as fout: shutil.copyfileobj(fin,fout)\n",
        "\n",
        "fetch_gz(fa_gz, fa)\n",
        "fetch_gz(gtf_gz, gtf)\n",
        "\n",
        "panel_txt=f\"{REF}/panel28_genes.txt\"\n",
        "with open(panel_txt,\"w\") as f:\n",
        "    f.write(\"\\n\".join([\n",
        "      \"BRCA1\",\"BRCA2\",\"ATM\",\"ATR\",\"BARD1\",\"BRIP1\",\"CDH1\",\"CHEK2\",\"MRE11\",\"NBN\",\"PALB2\",\"PTEN\",\n",
        "      \"RAD50\",\"RAD51\",\"RAD51C\",\"RAD51D\",\"RECQL\",\"TP53\",\"XRCC2\",\"XRCC3\",\"FANCA\",\"FANCC\",\"FANCM\",\n",
        "      \"MSH2\",\"MSH6\",\"MLH1\",\"PMS2\",\"EPCAM\"\n",
        "    ])+\"\\n\")\n",
        "\n",
        "raw_bed=f\"{REF}/panel28_genes.raw.bed\"\n",
        "bed_bed=f\"{REF}/panel28_genes.bed\"\n",
        "genes=set(x.strip() for x in open(panel_txt) if x.strip())\n",
        "n=0\n",
        "with open(gtf) as fin, open(raw_bed,\"w\") as fout:\n",
        "    for line in fin:\n",
        "        if not line or line[0]==\"#\": continue\n",
        "        parts=line.rstrip(\"\\n\").split(\"\\t\")\n",
        "        if len(parts)<9 or parts[2]!=\"gene\": continue\n",
        "        m=re.search(r'gene_name \"([^\"]+)\"', parts[8])\n",
        "        if not m: continue\n",
        "        name=m.group(1)\n",
        "        if name in genes:\n",
        "            chrom=parts[0]; start=int(parts[3])-1; end=int(parts[4]); strand=parts[6]\n",
        "            fout.write(f\"{chrom}\\t{start}\\t{end}\\t{name}\\t.\\t{strand}\\n\")\n",
        "            n+=1\n",
        "shutil.copy(raw_bed, bed_bed)\n",
        "print(\"panel28 genes BED rows:\", n)"
      ],
      "metadata": {
        "id": "_aPjY9eMAbt1"
      },
      "execution_count": null,
      "outputs": []
    },
    {
      "cell_type": "code",
      "source": [
        "%%bash\n",
        "# Map (minimap2) if BAM absent; else skip\n",
        "BASE=\"${BASE}\"; KEEP=\"${KEEP}\"\n",
        "PROC=\"$BASE/data/processed\"; ALN=\"$BASE/align\"; REF=\"$BASE/refs\"\n",
        "FA=\"$REF/GRCh38.primary_assembly.genome.fa\"\n",
        "\n",
        "if [ -s \"$ALN/${KEEP}.bam\" ]; then\n",
        "  echo \"[INFO] BAM exists: $ALN/${KEEP}.bam\"\n",
        "else\n",
        "  fq=\"$PROC/mini_${KEEP}.fastq.gz\"\n",
        "  if [ -s \"$fq\" ]; then\n",
        "    minimap2 -t 4 -ax splice -uf -k14 \"$FA\" \"$fq\" | samtools sort -m 1G -@2 -o \"$ALN/${KEEP}.bam\" -\n",
        "    samtools index \"$ALN/${KEEP}.bam\"\n",
        "  else\n",
        "    echo \"[WARN] Missing $fq — provide subsampled FASTQ or skip to annotation if BAM exists.\"\n",
        "  fi\n",
        "fi\n",
        "ls -lh \"$ALN\" || true"
      ],
      "metadata": {
        "colab": {
          "base_uri": "https://localhost:8080/"
        },
        "id": "NzzjpkmSAmhO",
        "outputId": "1ab807ad-b6b8-4915-dfc6-d6447c5b910e"
      },
      "execution_count": 4,
      "outputs": [
        {
          "output_type": "stream",
          "name": "stdout",
          "text": [
            "[INFO] BAM exists: /content/drive/MyDrive/brca-targeted-analysis/brca_rna_targeted/align/ERR13137440.bam\n",
            "total 2.6G\n",
            "-rw------- 1 root root 2.6G Aug 28 17:38 ERR13137440.bam\n",
            "-rw------- 1 root root 2.5M Aug 28 23:20 ERR13137440.bam.bai\n"
          ]
        }
      ]
    },
    {
      "cell_type": "code",
      "source": [
        "%%bash\n",
        "# Annotate (StringTie) and make transcript BED (Python)\n",
        "BASE=\"${BASE}\"; KEEP=\"${KEEP}\"\n",
        "ALN=\"$BASE/align\"; ISO=\"$BASE/isoforms\"; RES=\"$BASE/results\"; REF=\"$BASE/refs\"\n",
        "GTF=\"$REF/gencode.v46.annotation.gtf\"\n",
        "\n",
        "bam=\"$ALN/${KEEP}.bam\"; mkdir -p \"$ISO/$KEEP\" \"$RES\"\n",
        "[ -s \"$bam\" ] || { echo \"[ERR] BAM missing: $bam\"; exit 1; }\n",
        "\n",
        "stringtie -L -G \"$GTF\" -o \"$ISO/$KEEP/${KEEP}.gtf\" \"$bam\"\n",
        "stringtie -e -B -G \"$GTF\" -o \"$ISO/$KEEP/${KEEP}.guided.gtf\" \"$bam\"\n",
        "gffread -E \"$ISO/$KEEP/${KEEP}.gtf\" -T -o \"$ISO/$KEEP/${KEEP}.gtf.tmp\"\n",
        "\n",
        "python - <<'PY'\n",
        "import os, re\n",
        "BASE=os.environ[\"BASE\"]; KEEP=os.environ[\"KEEP\"]\n",
        "gtf=f\"{BASE}/isoforms/{KEEP}/{KEEP}.gtf.tmp\"\n",
        "bed=f\"{BASE}/isoforms/{KEEP}/{KEEP}.transcripts.bed\"\n",
        "n=0\n",
        "with open(gtf) as fin, open(bed,\"w\") as fout:\n",
        "    for ln in fin:\n",
        "        if not ln or ln[0]==\"#\": continue\n",
        "        f=ln.rstrip(\"\\n\").split(\"\\t\")\n",
        "        if len(f)<9 or f[2]!=\"transcript\": continue\n",
        "        m=re.search(r'transcript_id \"([^\"]+)\"', f[8])\n",
        "        tid=m.group(1) if m else \"NA\"\n",
        "        chrom=f[0]; start=str(int(f[3])-1); end=f[4]; strand=f[6]\n",
        "        fout.write(\"\\t\".join([chrom,start,end,tid,\".\",strand])+\"\\n\")\n",
        "        n+=1\n",
        "print(\"transcript BED rows:\", n)\n",
        "PY\n",
        "\n",
        "# quick global counts\n",
        "echo -n > \"$RES/isoform_counts.tsv\"\n",
        "n_all=$(grep -c $'\\ttranscript\\t' \"$ISO/$KEEP/${KEEP}.gtf.tmp\" || true)\n",
        "echo -e \"${KEEP}\\t${n_all}\\t0\" >> \"$RES/isoform_counts.tsv\"  # panel filled in next cell\n",
        "cat \"$RES/isoform_counts.tsv\""
      ],
      "metadata": {
        "colab": {
          "base_uri": "https://localhost:8080/"
        },
        "id": "P5kckKlPCLuE",
        "outputId": "ab675053-c19a-4560-fa36-06b456a43699"
      },
      "execution_count": 5,
      "outputs": [
        {
          "output_type": "stream",
          "name": "stdout",
          "text": [
            "transcript BED rows: 26350\n",
            "ERR13137440\t26350\t0\n"
          ]
        },
        {
          "output_type": "stream",
          "name": "stderr",
          "text": [
            "Command line was:\n",
            "gffread -E /content/drive/MyDrive/brca-targeted-analysis/brca_rna_targeted/isoforms/ERR13137440/ERR13137440.gtf -T -o /content/drive/MyDrive/brca-targeted-analysis/brca_rna_targeted/isoforms/ERR13137440/ERR13137440.gtf.tmp\n",
            "   .. loaded 26350 genomic features from /content/drive/MyDrive/brca-targeted-analysis/brca_rna_targeted/isoforms/ERR13137440/ERR13137440.gtf\n"
          ]
        }
      ]
    },
    {
      "cell_type": "code",
      "source": [
        "%%bash\n",
        "# Intersect with 28-gene panel BED and per-gene counts\n",
        "BASE=\"${BASE}\"; KEEP=\"${KEEP}\"\n",
        "ISO=\"$BASE/isoforms\"; RES=\"$BASE/results\"; REF=\"$BASE/refs\"\n",
        "PANELBED=\"$REF/panel28_genes.bed\"\n",
        "\n",
        "bedtools intersect -s -wa -wb -a \"$ISO/$KEEP/${KEEP}.transcripts.bed\" -b \"$PANELBED\" \\\n",
        "  > \"$ISO/$KEEP/${KEEP}.transcripts.panel.bed\"\n",
        "\n",
        "# Update isoform_counts.tsv with panel hits\n",
        "n_panel=$(wc -l < \"$ISO/$KEEP/${KEEP}.transcripts.panel.bed\" || echo 0)\n",
        "awk -v OFS=\"\\t\" -v S=\"$KEEP\" -v P=\"$n_panel\" '{ if ($1==S && NR==1) {print $1,$2,P} else if (NR==1) {print} }' \"$RES/isoform_counts.tsv\" > \"$RES/.tmp\" || echo -e \"$KEEP\\t0\\t$P\" > \"$RES/.tmp\"\n",
        "mv \"$RES/.tmp\" \"$RES/isoform_counts.tsv\"\n",
        "\n",
        "# Make per-gene table: sample, gene, count\n",
        ": > \"$RES/panel_gene_hits.tsv\"\n",
        "bedtools intersect -s -wa -wb -a \"$ISO/$KEEP/${KEEP}.transcripts.bed\" -b \"$PANELBED\" \\\n",
        " | awk -v S=\"$KEEP\" 'BEGIN{FS=OFS=\"\\t\"}{print S,$10,$4}' \\\n",
        " | sort | uniq -c \\\n",
        " | awk 'BEGIN{OFS=\"\\t\"}{print $2,$3,$1}' >> \"$RES/panel_gene_hits.tsv\"\n",
        "\n",
        "echo \"[RESULTS]\"; cat \"$RES/isoform_counts.tsv\"\n",
        "echo \"[GENE-HIT HEAD]\"; head -n 15 \"$RES/panel_gene_hits.tsv\" || true"
      ],
      "metadata": {
        "colab": {
          "base_uri": "https://localhost:8080/"
        },
        "id": "FjC0Ig5jCRwy",
        "outputId": "f0e1308a-3817-4e89-b8c0-776581f8c1db"
      },
      "execution_count": 6,
      "outputs": [
        {
          "output_type": "stream",
          "name": "stdout",
          "text": [
            "[RESULTS]\n",
            "ERR13137440\t26350\t276\n",
            "[GENE-HIT HEAD]\n",
            "ERR13137440\tATM\t1\n",
            "ERR13137440\tATM\t1\n",
            "ERR13137440\tATM\t1\n",
            "ERR13137440\tATM\t1\n",
            "ERR13137440\tATM\t1\n",
            "ERR13137440\tATM\t1\n",
            "ERR13137440\tATM\t1\n",
            "ERR13137440\tATM\t1\n",
            "ERR13137440\tATM\t1\n",
            "ERR13137440\tATM\t1\n",
            "ERR13137440\tATM\t1\n",
            "ERR13137440\tATM\t1\n",
            "ERR13137440\tATM\t1\n",
            "ERR13137440\tATM\t1\n",
            "ERR13137440\tATM\t1\n"
          ]
        },
        {
          "output_type": "stream",
          "name": "stderr",
          "text": [
            "***** WARNING: File /content/drive/MyDrive/brca-targeted-analysis/brca_rna_targeted/isoforms/ERR13137440/ERR13137440.transcripts.bed has inconsistent naming convention for record:\n",
            "GL000194.1\t93088\t97607\tSTRG.20239.1\t.\t-\n",
            "\n",
            "***** WARNING: File /content/drive/MyDrive/brca-targeted-analysis/brca_rna_targeted/isoforms/ERR13137440/ERR13137440.transcripts.bed has inconsistent naming convention for record:\n",
            "GL000194.1\t93088\t97607\tSTRG.20239.1\t.\t-\n",
            "\n",
            "***** WARNING: File /content/drive/MyDrive/brca-targeted-analysis/brca_rna_targeted/isoforms/ERR13137440/ERR13137440.transcripts.bed has inconsistent naming convention for record:\n",
            "GL000194.1\t93088\t97607\tSTRG.20239.1\t.\t-\n",
            "\n",
            "***** WARNING: File /content/drive/MyDrive/brca-targeted-analysis/brca_rna_targeted/isoforms/ERR13137440/ERR13137440.transcripts.bed has inconsistent naming convention for record:\n",
            "GL000194.1\t93088\t97607\tSTRG.20239.1\t.\t-\n",
            "\n"
          ]
        }
      ]
    },
    {
      "cell_type": "code",
      "source": [
        "# Plot top genes and save PNG\n",
        "import os, pandas as pd, matplotlib.pyplot as plt\n",
        "\n",
        "BASE=os.environ[\"BASE\"]\n",
        "tsv=os.path.join(BASE,\"results\",\"panel_gene_hits.tsv\")\n",
        "df=pd.read_csv(tsv, sep=\"\\t\", header=None, names=[\"sample\",\"gene\",\"count\"], dtype=str)\n",
        "df[\"count\"]=pd.to_numeric(df[\"count\"], errors=\"coerce\")\n",
        "df=df.dropna(subset=[\"count\"])\n",
        "summary=df.groupby(\"gene\", as_index=False)[\"count\"].sum().sort_values(\"count\", ascending=False)\n",
        "\n",
        "print(\"Top 10 genes:\\n\", summary.head(10).to_string(index=False))\n",
        "\n",
        "top15=summary.head(15).set_index(\"gene\")\n",
        "plt.figure(figsize=(8,5))\n",
        "top15[\"count\"].plot(kind=\"barh\")\n",
        "plt.xlabel(\"Transcript overlaps (panel)\")\n",
        "plt.title(\"Top 15 HBOC Panel Genes (subsampled)\")\n",
        "plt.tight_layout()\n",
        "out=os.path.join(BASE,\"results\",\"top_panel_genes.png\")\n",
        "plt.savefig(out, dpi=160, bbox_inches=\"tight\")\n",
        "plt.show()\n",
        "print(\"saved:\", out)"
      ],
      "metadata": {
        "colab": {
          "base_uri": "https://localhost:8080/",
          "height": 739
        },
        "id": "ddlBxgpWCXZN",
        "outputId": "efac83e8-1a24-4c2b-8a21-0961752c280a"
      },
      "execution_count": 7,
      "outputs": [
        {
          "output_type": "stream",
          "name": "stdout",
          "text": [
            "Top 10 genes:\n",
            "   gene  count\n",
            "   ATM     37\n",
            "  MLH1     23\n",
            " RAD50     22\n",
            " BRCA1     21\n",
            " RAD51     17\n",
            " PALB2     16\n",
            "RAD51C     16\n",
            "   NBN     15\n",
            "  PTEN     14\n",
            " CHEK2     12\n"
          ]
        },
        {
          "output_type": "display_data",
          "data": {
            "text/plain": [
              "<Figure size 800x500 with 1 Axes>"
            ],
            "image/png": "[encoded data removed]"
          },
          "metadata": {}
        },
        {
          "output_type": "stream",
          "name": "stdout",
          "text": [
            "saved: /content/drive/MyDrive/brca-targeted-analysis/brca_rna_targeted/results/top_panel_genes.png\n"
          ]
        }
      ]
    },
    {
      "cell_type": "code",
      "source": [
        "%%bash\n",
        "# OPTIONAL: convert BAM→CRAM to shrink storage\n",
        "BASE=\"${BASE}\"; KEEP=\"${KEEP}\"\n",
        "ALN=\"$BASE/align\"; REF=\"$BASE/refs/GRCh38.primary_assembly.genome.fa\"\n",
        "bam=\"$ALN/${KEEP}.bam\"\n",
        "if [ -s \"$bam\" ]; then\n",
        "  cram=\"${bam%.bam}.cram\"\n",
        "  samtools view -T \"$REF\" -C -o \"$cram\" \"$bam\"\n",
        "  samtools index \"$cram\"\n",
        "  rm -f \"$bam\" \"$bam.bai\"\n",
        "fi\n",
        "ls -lh \"$ALN\" || true"
      ],
      "metadata": {
        "colab": {
          "base_uri": "https://localhost:8080/"
        },
        "id": "O3TI45GcCazN",
        "outputId": "eaa7af7e-d2c3-41db-f2d9-dc2b8f0559ad"
      },
      "execution_count": 8,
      "outputs": [
        {
          "output_type": "stream",
          "name": "stdout",
          "text": [
            "total 1.6G\n",
            "-rw------- 1 root root 1.6G Aug 29 18:38 ERR13137440.cram\n",
            "-rw------- 1 root root  13K Aug 29 18:38 ERR13137440.cram.crai\n"
          ]
        }
      ]
    },
    {
      "cell_type": "code",
      "source": [
        "# write questions.yaml\n",
        "import os, textwrap\n",
        "\n",
        "BASE = os.environ.get(\"BASE\", \"/content/drive/MyDrive/brca-targeted-analysis/brca_rna_targeted\")\n",
        "qs_path = os.path.join(BASE, \"questions.yaml\")\n",
        "\n",
        "questions_yaml = textwrap.dedent(\"\"\"\\\n",
        "task: >\n",
        "  You have been given a subsampled long-read RNA-seq dataset (ERR13137440).\n",
        "  Using the processed FASTQ/BAM and panel-intersect outputs in results/, answer the following:\n",
        "\n",
        "questions:\n",
        "- id: q1_total_isoforms\n",
        "  stage: isoform_assembly\n",
        "  text: How many total transcripts were assembled from ERR13137440?\n",
        "  answer_type: integer_exact\n",
        "\n",
        "- id: q2_panel_isoforms\n",
        "  stage: panel_intersection\n",
        "  text: How many transcripts overlapped the 28-gene HBOC panel?\n",
        "  answer_type: integer_exact\n",
        "\n",
        "- id: q3_top_gene\n",
        "  stage: gene_summary\n",
        "  text: Which panel gene had the highest transcript overlap count?\n",
        "  answer_type: string_exact\n",
        "\n",
        "- id: q4_brca1_vs_brca2\n",
        "  stage: gene_comparison\n",
        "  text: What is the transcript count ratio BRCA1/BRCA2?\n",
        "  answer_type: numeric_float\n",
        "  tolerance: 0.01\n",
        "\n",
        "- id: q5_top3_genes\n",
        "  stage: visualization\n",
        "  text: According to panel_gene_hits.tsv, what are the top 3 genes by count?\n",
        "  answer_type: list_string\n",
        "\"\"\")\n",
        "\n",
        "os.makedirs(BASE, exist_ok=True)\n",
        "with open(qs_path, \"w\") as f:\n",
        "    f.write(questions_yaml)\n",
        "print(f\"[OK] wrote {qs_path}\")\n",
        "print(open(qs_path).read())"
      ],
      "metadata": {
        "colab": {
          "base_uri": "https://localhost:8080/"
        },
        "id": "XZQrMU7bCeTu",
        "outputId": "983ae63f-95a5-4a01-ffdf-476b192c77a1"
      },
      "execution_count": 9,
      "outputs": [
        {
          "output_type": "stream",
          "name": "stdout",
          "text": [
            "[OK] wrote /content/drive/MyDrive/brca-targeted-analysis/brca_rna_targeted/questions.yaml\n",
            "task: >\n",
            "  You have been given a subsampled long-read RNA-seq dataset (ERR13137440).\n",
            "  Using the processed FASTQ/BAM and panel-intersect outputs in results/, answer the following:\n",
            "\n",
            "questions:\n",
            "- id: q1_total_isoforms\n",
            "  stage: isoform_assembly\n",
            "  text: How many total transcripts were assembled from ERR13137440?\n",
            "  answer_type: integer_exact\n",
            "\n",
            "- id: q2_panel_isoforms\n",
            "  stage: panel_intersection\n",
            "  text: How many transcripts overlapped the 28-gene HBOC panel?\n",
            "  answer_type: integer_exact\n",
            "\n",
            "- id: q3_top_gene\n",
            "  stage: gene_summary\n",
            "  text: Which panel gene had the highest transcript overlap count?\n",
            "  answer_type: string_exact\n",
            "\n",
            "- id: q4_brca1_vs_brca2\n",
            "  stage: gene_comparison\n",
            "  text: What is the transcript count ratio BRCA1/BRCA2?\n",
            "  answer_type: numeric_float\n",
            "  tolerance: 0.01\n",
            "\n",
            "- id: q5_top3_genes\n",
            "  stage: visualization\n",
            "  text: According to panel_gene_hits.tsv, what are the top 3 genes by count?\n",
            "  answer_type: list_string\n",
            "\n"
          ]
        }
      ]
    },
    {
      "cell_type": "code",
      "source": [
        "# compute answers from current outputs and write answers.yaml\n",
        "import os, pandas as pd, math, yaml\n",
        "\n",
        "BASE = os.environ.get(\"BASE\", \"/content/drive/MyDrive/brca-targeted-analysis/brca_rna_targeted\")\n",
        "iso_tsv = os.path.join(BASE, \"results\", \"isoform_counts.tsv\")\n",
        "hits_tsv = os.path.join(BASE, \"results\", \"panel_gene_hits.tsv\")\n",
        "ans_path = os.path.join(BASE, \"answers.yaml\")\n",
        "\n",
        "# q1 & q2 from isoform_counts.tsv: columns = sample, total_isoforms, panel_hits\n",
        "iso = pd.read_csv(iso_tsv, sep=\"\\t\", header=None, names=[\"sample\",\"total\",\"panel\"])\n",
        "q1_total_isoforms = int(iso.loc[0, \"total\"])\n",
        "q2_panel_isoforms = int(iso.loc[0, \"panel\"])\n",
        "\n",
        "# Aggregate per gene from panel_gene_hits.tsv: columns = sample, gene, count\n",
        "hits = pd.read_csv(hits_tsv, sep=\"\\t\", header=None, names=[\"sample\",\"gene\",\"count\"])\n",
        "hits[\"count\"] = pd.to_numeric(hits[\"count\"], errors=\"coerce\").fillna(0).astype(int)\n",
        "gene_sum = hits.groupby(\"gene\", as_index=True)[\"count\"].sum().sort_values(ascending=False)\n",
        "\n",
        "q3_top_gene = str(gene_sum.index[0]) if not gene_sum.empty else \"\"\n",
        "\n",
        "brca1 = int(gene_sum.get(\"BRCA1\", 0))\n",
        "brca2 = int(gene_sum.get(\"BRCA2\", 0))\n",
        "q4_brca1_vs_brca2 = float(brca1)/float(brca2) if brca2 != 0 else float(\"inf\")\n",
        "\n",
        "top3 = list(gene_sum.head(3).index)\n",
        "answers = {\n",
        "    \"q1_total_isoforms\": int(q1_total_isoforms),\n",
        "    \"q2_panel_isoforms\": int(q2_panel_isoforms),\n",
        "    \"q3_top_gene\": q3_top_gene,\n",
        "    \"q4_brca1_vs_brca2\": None if math.isinf(q4_brca1_vs_brca2) else round(q4_brca1_vs_brca2, 2),\n",
        "    \"q5_top3_genes\": top3,\n",
        "}\n",
        "\n",
        "with open(ans_path, \"w\") as f:\n",
        "    yaml.safe_dump(answers, f, sort_keys=False)\n",
        "\n",
        "print(f\"[OK] wrote {ans_path}\")\n",
        "print(open(ans_path).read())"
      ],
      "metadata": {
        "colab": {
          "base_uri": "https://localhost:8080/"
        },
        "id": "aHyA9qcGIXIZ",
        "outputId": "bb710996-4c91-4cfa-d2ac-58744785bc7a"
      },
      "execution_count": 10,
      "outputs": [
        {
          "output_type": "stream",
          "name": "stdout",
          "text": [
            "[OK] wrote /content/drive/MyDrive/brca-targeted-analysis/brca_rna_targeted/answers.yaml\n",
            "q1_total_isoforms: 26350\n",
            "q2_panel_isoforms: 276\n",
            "q3_top_gene: ATM\n",
            "q4_brca1_vs_brca2: 2.33\n",
            "q5_top3_genes:\n",
            "- ATM\n",
            "- MLH1\n",
            "- RAD50\n",
            "\n"
          ]
        }
      ]
    }
  ]
}